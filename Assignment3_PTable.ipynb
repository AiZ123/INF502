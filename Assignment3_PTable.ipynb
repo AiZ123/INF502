{
 "cells": [
  {
   "cell_type": "markdown",
   "metadata": {},
   "source": [
    "# Periodic Table"
   ]
  },
  {
   "cell_type": "markdown",
   "metadata": {},
   "source": [
    "## Prepare the data"
   ]
  },
  {
   "cell_type": "code",
   "execution_count": 2,
   "metadata": {},
   "outputs": [
    {
     "name": "stdout",
     "output_type": "stream",
     "text": [
      "PeriodicTable={'Symbol':['Name','Atomic_Number','Row','Column']}= {'H': ['Hydrogen', '1', '1', '1'], 'He': ['Helium', '2', '1', '18'], 'Li': ['Lithium', '3', '2', '1'], 'Be': ['Berylium', '4', '2', '2'], 'B': ['Boron', '5', '2', '13'], 'C': ['Carbon', '6', '2', '14'], 'N': ['Nitrogen', '7', '2', '15'], 'O': ['Oxygen', '8', '2', '16']}\n"
     ]
    }
   ],
   "source": [
    "import os\n",
    "\n",
    "Symbol = ['H','He','Li','Be','B','C','N','O']\n",
    "Name = ['Hydrogen','Helium','Lithium','Berylium','Boron','Carbon','Nitrogen','Oxygen']\n",
    "AtomicNumber = ['1','2','3','4','5','6','7','8']\n",
    "Row = ['1','1','2','2','2','2','2','2']\n",
    "Column = ['1','18','1','2','13','14','15','16']\n",
    "PeriodicTable = {}\n",
    "for i in range(0, len(Symbol)):\n",
    "    PeriodicTable[Symbol[i]] = [Name[i], AtomicNumber[i], Row[i], Column[i]]\n",
    "print(\"PeriodicTable={'Symbol':['Name','Atomic_Number','Row','Column']}=\" ,PeriodicTable)"
   ]
  },
  {
   "cell_type": "markdown",
   "metadata": {},
   "source": [
    "## Print out frame"
   ]
  },
  {
   "cell_type": "code",
   "execution_count": 3,
   "metadata": {},
   "outputs": [],
   "source": [
    "def printout():\n",
    "    os.system('clear')\n",
    "    print(\"Choose an option as follows: \")\n",
    "    print(\"1. Enter element's symbol:\")\n",
    "    print(\"2. Select Element's property:\")\n",
    "    print(\"3. Enter new element's symbol:\")    \n",
    "    print(\"4. Enter element's symbol to change the attributes:\")\n",
    "    print(\"5. EXIT\")"
   ]
  },
  {
   "cell_type": "code",
   "execution_count": 4,
   "metadata": {},
   "outputs": [],
   "source": [
    " def print_prop():\n",
    "    os.system('clear')\n",
    "    print(\"Choose an property number: \")\n",
    "    print(\"1. Name\")\n",
    "    print(\"2. tomic Number\")\n",
    "    print(\"3. Row\")\n",
    "    print(\"4. Column\")\n",
    "    print(\"5. EXIT\")"
   ]
  },
  {
   "cell_type": "markdown",
   "metadata": {},
   "source": [
    "## Excute the function"
   ]
  },
  {
   "cell_type": "code",
   "execution_count": null,
   "metadata": {},
   "outputs": [
    {
     "name": "stdout",
     "output_type": "stream",
     "text": [
      "Choose an option as follows: \n",
      "1. Enter element's symbol:\n",
      "2. Select Element's property:\n",
      "3. Enter new element's symbol:\n",
      "4. Enter element's symbol to change the attributes:\n",
      "5. EXIT\n"
     ]
    }
   ],
   "source": [
    "while (True):\n",
    "    printout()\n",
    "    option = int(input(\"Your option: \"))\n",
    "    os.system('clear')\n",
    "    \n",
    "    if (option == 1):\n",
    "        key = input(\"Enter the symbol:\")\n",
    "        print(\"Name, Atomic_Number, Row, Column:\", PeriodicTable.get(key))\n",
    "        \n",
    "    elif (option == 2):\n",
    "        while (True):\n",
    "            print_prop()\n",
    "            option = int(input(\"Your option: \"))\n",
    "            os.system('clear')\n",
    "            if (option == 1):\n",
    "                print(\"Symbol Name is:\",Name)\n",
    "            elif (option == 2):\n",
    "                print(\"Symbol Atomic Number is:\",AtomicNumber)\n",
    "            elif (option == 3):\n",
    "                print(\"Symbol Row is:\",Row)\n",
    "            elif (option == 4):\n",
    "                print(\"Symbol Column is:\",Column)\n",
    "            elif (option == 5):\n",
    "                break\n",
    "                \n",
    "    elif (option == 3):\n",
    "        NewSymbol = input(\"Enter new element's symbol:\")\n",
    "        property = input(\"Enter new element's property=['Name','Atomic_Number','Row','Column']=\")\n",
    "        Prop = property.split(',')\n",
    "        PeriodicTable[NewSymbol] = Prop\n",
    "        print(\"PeriodicTable={'Symbol':['Name','Atomic_Number','Row','Column']}=\",PeriodicTable)\n",
    "        \n",
    "    elif (option == 4):\n",
    "        NewSymbol = input(\"Enter element's symbol:\")\n",
    "        property = input(\"Enter the element's new property=['Name','Atomic_Number','Row','Column']=:\")\n",
    "        Prop = property.split(',')\n",
    "        PeriodicTable[NewSymbol] = Prop\n",
    "        print(\"PeriodicTable={'Symbol':['Name','Atomic_Number','Row','Column']}=\",PeriodicTable)\n",
    "        \n",
    "    elif (option == 5):\n",
    "        break"
   ]
  },
  {
   "cell_type": "code",
   "execution_count": null,
   "metadata": {},
   "outputs": [],
   "source": []
  }
 ],
 "metadata": {
  "kernelspec": {
   "display_name": "Python 3",
   "language": "python",
   "name": "python3"
  },
  "language_info": {
   "codemirror_mode": {
    "name": "ipython",
    "version": 3
   },
   "file_extension": ".py",
   "mimetype": "text/x-python",
   "name": "python",
   "nbconvert_exporter": "python",
   "pygments_lexer": "ipython3",
   "version": "3.7.6"
  }
 },
 "nbformat": 4,
 "nbformat_minor": 4
}
