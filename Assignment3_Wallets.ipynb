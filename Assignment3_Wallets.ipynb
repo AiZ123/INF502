{
 "cells": [
  {
   "cell_type": "markdown",
   "metadata": {},
   "source": [
    "# Wallet"
   ]
  },
  {
   "cell_type": "markdown",
   "metadata": {},
   "source": [
    "## Define the print out format"
   ]
  },
  {
   "cell_type": "code",
   "execution_count": 8,
   "metadata": {},
   "outputs": [],
   "source": [
    "def printout(lst):\n",
    "    list = [int(i) for i in range(len(lst))]\n",
    "    print(\"The fattest wallet has $\" + str(max(lst)) + \" value in it.\")\n",
    "    print(\"The skinniest wallet has $\" + str(min(lst)) + \" value in it.\")\n",
    "    print(\"All together, these wallets have $\"+ str(sum(lst)) +\" value in them.\")\n",
    "    print(\"All together, the total value of these wallets is worth $\" + str(sum(lst)*10) + \" dimes\")\n"
   ]
  },
  {
   "cell_type": "markdown",
   "metadata": {},
   "source": [
    "## Enter 5 numbers and print out "
   ]
  },
  {
   "cell_type": "code",
   "execution_count": 9,
   "metadata": {},
   "outputs": [
    {
     "name": "stdout",
     "output_type": "stream",
     "text": [
      "Please enter 5 numbers separate by a comma (,): 5,6,3,8,4\n",
      "The fattest wallet has $8.0 value in it.\n",
      "The skinniest wallet has $3.0 value in it.\n",
      "All together, these wallets have $26.0 value in them.\n",
      "All together, the total value of these wallets is worth $260.0 dimes\n"
     ]
    }
   ],
   "source": [
    "five_numbers = input('Please enter 5 numbers separate by a comma (,): ')\n",
    "split = five_numbers.split(',')\n",
    "lst = [ float(i) for i in split ]\n",
    "printout(lst)"
   ]
  }
 ],
 "metadata": {
  "kernelspec": {
   "display_name": "Python 3",
   "language": "python",
   "name": "python3"
  },
  "language_info": {
   "codemirror_mode": {
    "name": "ipython",
    "version": 3
   },
   "file_extension": ".py",
   "mimetype": "text/x-python",
   "name": "python",
   "nbconvert_exporter": "python",
   "pygments_lexer": "ipython3",
   "version": "3.7.6"
  }
 },
 "nbformat": 4,
 "nbformat_minor": 4
}
