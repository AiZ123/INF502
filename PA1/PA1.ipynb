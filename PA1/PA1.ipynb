{
 "cells": [
  {
   "cell_type": "markdown",
   "metadata": {},
   "source": [
    "## PA1 DNA Similarity"
   ]
  },
  {
   "cell_type": "markdown",
   "metadata": {},
   "source": [
    "1.First of all, we need to understand what the two functions mean and the goal. \n",
    "2.The most difficult part is to implement the two functions, comparing sequence similarity and using a loop to traverse the strings separately to abstract the number of the same letters.\n",
    "3.Then design the user interface to and print out the completed sequences \n",
    "4.Another problem is to set the exception handling for the sequence length and file existence."
   ]
  },
  {
   "cell_type": "markdown",
   "metadata": {},
   "source": [
    "Define the sequence, for example, open the file, print each element out and then compare the length of each sequence."
   ]
  },
  {
   "cell_type": "code",
   "execution_count": 1,
   "metadata": {},
   "outputs": [],
   "source": [
    "def Print(sequence):\n",
    "    for item in sequence:\n",
    "        print(item, end=\" \")\n",
    "    print(\" \")\n",
    "\n",
    "def split(list):\n",
    "    return [char for char in list]\n",
    "\n",
    "def OpenFile(filename):\n",
    "    f = open(filename, \"r\")\n",
    "    file = f.read()\n",
    "    f.close()\n",
    "    file = split(file)\n",
    "    return file\n",
    "\n",
    "def CheckFileLength(file1, file2):\n",
    "    if len(file1) != len(file2):\n",
    "        return (\"The two sequences do not have the same length, try again\\n\")\n",
    "    for i in range(len(file1)):\n",
    "        if file1[i] != 'A' and file1[i] != 'G' and file1[i] != 'C' and file1[i] != 'T':\n",
    "            return (\"The sequence has incorrect characters, try again\\n\")\n",
    "        if file2[i] != 'A' and file2[i] != 'G' and file2[i] != 'C' and file2[i] != 'T':\n",
    "            return (\"The sequence has incorrect characters, try again\\n\")\n",
    "    return True"
   ]
  },
  {
   "cell_type": "markdown",
   "metadata": {},
   "source": [
    "We check the errors when we find, open and abstrcact sequence."
   ]
  },
  {
   "cell_type": "code",
   "execution_count": 2,
   "metadata": {},
   "outputs": [],
   "source": [
    "def InputPrint():\n",
    "    file1 = \"Error\"\n",
    "    while file1 == \"Error\":\n",
    "        try:\n",
    "            a = str(input(\"The file1 name: \"))\n",
    "            file1 = OpenFile(a)\n",
    "        except FileNotFoundError:\n",
    "            print(\"Enter an exist file name\")\n",
    "            file1 = \"Error\"\n",
    "    file2 = \"Error\"\n",
    "    while file2 == \"Error\":\n",
    "        try:\n",
    "            b = str(input(\"The file2 name: \"))\n",
    "            file2 = OpenFile(b)\n",
    "        except FileNotFoundError:\n",
    "            print(\"Enter an exist file name\")\n",
    "            file2 = \"Error\"\n",
    "    shiftbit = \"Error\"\n",
    "    while shiftbit == \"Error\":\n",
    "        try:\n",
    "            shiftbit = int(input(\"Enter the maximum shift:(1-5) \"))\n",
    "            if shiftbit > len(file1) or shiftbit > len(file2):\n",
    "                print(\"Wrong\")\n",
    "                shiftbit = \"Error\"\n",
    "        except (ValueError, TypeError):\n",
    "            print(\"Try again\")\n",
    "            shiftbit = \"Error\"\n",
    "    check = CheckFileLength(file1,file2)\n",
    "    printout = [file1, file2, shiftbit, check]\n",
    "    return printout"
   ]
  },
  {
   "cell_type": "markdown",
   "metadata": {},
   "source": [
    "Define the two functions we need: number of matches and max continuous chain"
   ]
  },
  {
   "cell_type": "code",
   "execution_count": 3,
   "metadata": {},
   "outputs": [],
   "source": [
    "def number_of_matches(file1, file2):\n",
    "    score = 0\n",
    "    for i in range(len(file1)):\n",
    "        if file1[i] == file2[i]:\n",
    "            score = score + 1\n",
    "    return score\n",
    "\n",
    "def max_continuous_chain(file1, file2):\n",
    "    score = 0\n",
    "    score_count = []\n",
    "    for i in range(len(file1)):\n",
    "        if file1[i] == file2[i]:\n",
    "            score = score + 1\n",
    "        else:\n",
    "            score_count.append(score)\n",
    "            score = 0;\n",
    "    score_count.append(score)\n",
    "    score_count.sort()\n",
    "    return score_count[-1]\n",
    "        "
   ]
  },
  {
   "cell_type": "markdown",
   "metadata": {},
   "source": [
    "Compare two sequences in two different methods and get the score, here we consider the first sequence shifts right and the second sequence shifts left."
   ]
  },
  {
   "cell_type": "code",
   "execution_count": 4,
   "metadata": {},
   "outputs": [],
   "source": [
    "def compare_sequences_matches(sequence1, sequence2, shiftbit, choise):\n",
    "    highest_score = 0\n",
    "    score_l = []\n",
    "    for j in range(shiftbit+1):\n",
    "        if j!=0:\n",
    "            s1 = sequence1.copy()\n",
    "            s2 = sequence2.copy()\n",
    "            for i in range(j):\n",
    "                s1.insert(0, \"-\")\n",
    "                s2.append(\"-\")\n",
    "            if choise == 1:\n",
    "                score = number_of_matches(s1,s2)\n",
    "                print(\" \")\n",
    "                print(\"Shift by \" + str(j) + \", the number of match score is: \" + str(score))\n",
    "                if score > highest_score:\n",
    "                    highest_score = score\n",
    "                    score_l = [1, j]\n",
    "            elif choise == 2:\n",
    "                score = max_continuous_chain(s1, s2)\n",
    "                print(\" \")\n",
    "                print(\"Shift by \" + str(j) + \", the max continue chain score is: \" + str(score))\n",
    "                if score > highest_score:\n",
    "                    highest_score = score\n",
    "                    score_l = [1, j]\n",
    "            Print(s1)\n",
    "            Print(s2)\n",
    "            print(\" \")"
   ]
  },
  {
   "cell_type": "code",
   "execution_count": 5,
   "metadata": {
    "scrolled": false
   },
   "outputs": [
    {
     "name": "stdout",
     "output_type": "stream",
     "text": [
      "(1)Compare DNA sequences using the number of matches\n",
      "(2)Compare dna sequences using the max continue chain\n",
      "(3)Exit\n",
      "Your choice: 1\n",
      "The file1 name: seq1.txt\n",
      "The file2 name: seq2.txt\n",
      "Enter the maximum shift:(1-5) 2\n",
      " \n",
      "Shift by 1, the number of match score is: 3\n",
      "- A C T G A C T T T T  \n",
      "T T T A G C C G A T -  \n",
      " \n",
      " \n",
      "Shift by 2, the number of match score is: 1\n",
      "- - A C T G A C T T T T  \n",
      "T T T A G C C G A T - -  \n",
      " \n",
      "(1)Compare DNA sequences using the number of matches\n",
      "(2)Compare dna sequences using the max continue chain\n",
      "(3)Exit\n",
      "Your choice: 2\n",
      "The file1 name: seq2.txt\n",
      "The file2 name: seq1.txt\n",
      "Enter the maximum shift:(1-5) 2\n",
      " \n",
      "Shift by 1, the max continue chain score is: 1\n",
      "- T T T A G C C G A T  \n",
      "A C T G A C T T T T -  \n",
      " \n",
      " \n",
      "Shift by 2, the max continue chain score is: 1\n",
      "- - T T T A G C C G A T  \n",
      "A C T G A C T T T T - -  \n",
      " \n",
      "(1)Compare DNA sequences using the number of matches\n",
      "(2)Compare dna sequences using the max continue chain\n",
      "(3)Exit\n",
      "Your choice: 3\n"
     ]
    }
   ],
   "source": [
    "choice = 0\n",
    "while choice != 3:\n",
    "    print(\"(1)Compare DNA sequences using the number of matches\")\n",
    "    print(\"(2)Compare dna sequences using the max continue chain\")\n",
    "    print(\"(3)Exit\")\n",
    "    choice = int(input(\"Your choice: \"))\n",
    "    while choice < 1 or choice > 3:\n",
    "        try:\n",
    "            choice = input(\"Try again: \")\n",
    "            choice = int(choice)\n",
    "        except (ValueError, TypeError):\n",
    "            print(\"Wrong!\")\n",
    "            choice = 0\n",
    "    if choice != 3:\n",
    "        output = InputPrint()\n",
    "        if output[3]:\n",
    "            compare_sequences_matches(output[0],output[1],output[2], choice)\n",
    "        else:\n",
    "            print(\"Wrong!\")"
   ]
  }
 ],
 "metadata": {
  "kernelspec": {
   "display_name": "Python 3",
   "language": "python",
   "name": "python3"
  },
  "language_info": {
   "codemirror_mode": {
    "name": "ipython",
    "version": 3
   },
   "file_extension": ".py",
   "mimetype": "text/x-python",
   "name": "python",
   "nbconvert_exporter": "python",
   "pygments_lexer": "ipython3",
   "version": "3.7.6"
  }
 },
 "nbformat": 4,
 "nbformat_minor": 4
}
